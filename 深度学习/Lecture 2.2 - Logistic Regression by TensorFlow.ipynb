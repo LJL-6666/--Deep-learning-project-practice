{
 "cells": [
  {
   "cell_type": "markdown",
   "metadata": {},
   "source": [
    "<center><h1> TensorFlow 基础：逻辑回归</h1></center>"
   ]
  },
  {
   "cell_type": "markdown",
   "metadata": {},
   "source": [
    "# 加载MNIST数据"
   ]
  },
  {
   "cell_type": "code",
   "execution_count": 1,
   "metadata": {
    "ExecuteTime": {
     "end_time": "2020-11-09T07:24:13.370758Z",
     "start_time": "2020-11-09T07:23:49.716249Z"
    }
   },
   "outputs": [
    {
     "name": "stdout",
     "output_type": "stream",
     "text": [
      "Downloading data from https://storage.googleapis.com/tensorflow/tf-keras-datasets/mnist.npz\n",
      "11493376/11490434 [==============================] - 4s 0us/step\n"
     ]
    }
   ],
   "source": [
    "import keras\n",
    "(X0, Y0), (X1, Y1) = keras.datasets.mnist.load_data()"
   ]
  },
  {
   "cell_type": "markdown",
   "metadata": {},
   "source": [
    "# 手写数字展示"
   ]
  },
  {
   "cell_type": "code",
   "execution_count": 2,
   "metadata": {
    "ExecuteTime": {
     "end_time": "2020-11-09T07:25:03.596929Z",
     "start_time": "2020-11-09T07:25:00.830960Z"
    }
   },
   "outputs": [
    {
     "data": {
      "text/plain": [
       "<Figure size 432x288 with 0 Axes>"
      ]
     },
     "metadata": {},
     "output_type": "display_data"
    },
    {
     "data": {
      "image/png": "[encoded data removed]",
      "text/plain": [
       "<Figure size 432x288 with 10 Axes>"
      ]
     },
     "metadata": {
      "needs_background": "light"
     },
     "output_type": "display_data"
    }
   ],
   "source": [
    "from matplotlib import pyplot as plt   #导入绘图库\n",
    "plt.figure()                          #设置画布\n",
    "fig,ax = plt.subplots(2,5)         #以俩行五列呈现\n",
    "ax=ax.flatten()                   #返回一个一维数组\n",
    "for i in range(10):            #循环打印出10张数字图片\n",
    "    Im=X0[Y0==i][0]\n",
    "    ax[i].imshow(Im)\n",
    "plt.show()"
   ]
  },
  {
   "cell_type": "markdown",
   "metadata": {},
   "source": [
    "# 产生One-Hot型因变量"
   ]
  },
  {
   "cell_type": "code",
   "execution_count": 3,
   "metadata": {
    "ExecuteTime": {
     "end_time": "2020-11-09T07:25:14.199223Z",
     "start_time": "2020-11-09T07:25:14.146181Z"
    }
   },
   "outputs": [
    {
     "data": {
      "text/plain": [
       "array([[0., 0., 0., ..., 1., 0., 0.],\n",
       "       [0., 0., 1., ..., 0., 0., 0.],\n",
       "       [0., 1., 0., ..., 0., 0., 0.],\n",
       "       ...,\n",
       "       [0., 0., 0., ..., 0., 0., 0.],\n",
       "       [0., 0., 0., ..., 0., 0., 0.],\n",
       "       [0., 0., 0., ..., 0., 0., 0.]], dtype=float32)"
      ]
     },
     "execution_count": 3,
     "metadata": {},
     "output_type": "execute_result"
    }
   ],
   "source": [
    "from keras.utils import to_categorical \n",
    "YY0=to_categorical(Y0)   #将类别向量转换为二进制\n",
    "YY1=to_categorical(Y1)\n",
    "YY1"
   ]
  },
  {
   "cell_type": "markdown",
   "metadata": {},
   "source": [
    "# 逻辑回归模型"
   ]
  },
  {
   "cell_type": "code",
   "execution_count": 4,
   "metadata": {
    "ExecuteTime": {
     "end_time": "2020-11-09T07:25:19.185655Z",
     "start_time": "2020-11-09T07:25:18.294428Z"
    }
   },
   "outputs": [],
   "source": [
    "from keras.layers import Activation, Dense, Flatten, Input\n",
    "from keras import Model\n",
    "\n",
    "input_shape=(28,28)     \n",
    "input_layer=Input(input_shape) #输入数组\n",
    "x=input_layer\n",
    "x=Flatten()(x)       # 返回一个一维数组\n",
    "x=Dense(10)(x)      # 全连接层，实现对神经网络里的神经元激活。\n",
    "x=Activation('softmax')(x)   #激活函数\n",
    "output_layer=x           #输出颜值\n",
    "model=Model(input_layer,output_layer) #模型的构建"
   ]
  },
  {
   "cell_type": "markdown",
   "metadata": {},
   "source": [
    "# 理解模型结构"
   ]
  },
  {
   "cell_type": "code",
   "execution_count": 5,
   "metadata": {
    "ExecuteTime": {
     "end_time": "2020-11-09T07:25:23.197484Z",
     "start_time": "2020-11-09T07:25:23.180801Z"
    }
   },
   "outputs": [
    {
     "name": "stdout",
     "output_type": "stream",
     "text": [
      "Model: \"functional_1\"\n",
      "_________________________________________________________________\n",
      "Layer (type)                 Output Shape              Param #   \n",
      "=================================================================\n",
      "input_1 (InputLayer)         [(None, 28, 28)]          0         \n",
      "_________________________________________________________________\n",
      "flatten (Flatten)            (None, 784)               0         \n",
      "_________________________________________________________________\n",
      "dense (Dense)                (None, 10)                7850      \n",
      "_________________________________________________________________\n",
      "activation (Activation)      (None, 10)                0         \n",
      "=================================================================\n",
      "Total params: 7,850\n",
      "Trainable params: 7,850\n",
      "Non-trainable params: 0\n",
      "_________________________________________________________________\n"
     ]
    }
   ],
   "source": [
    "model.summary()   #描述模型的统计变量"
   ]
  },
  {
   "cell_type": "markdown",
   "metadata": {},
   "source": [
    "# 确定施工（优化）方案"
   ]
  },
  {
   "cell_type": "code",
   "execution_count": 6,
   "metadata": {
    "ExecuteTime": {
     "end_time": "2020-11-09T07:26:36.462894Z",
     "start_time": "2020-11-09T07:26:36.365961Z"
    }
   },
   "outputs": [],
   "source": [
    "from keras.optimizers import Adam\n",
    "model.compile(optimizer = Adam(0.01),\n",
    "             loss = 'categorical_crossentropy',\n",
    "             metrics = ['accuracy'])     \n",
    "#设置学习速率为0.01；极大似然估计；计算精度。"
   ]
  },
  {
   "cell_type": "markdown",
   "metadata": {},
   "source": [
    "# 模型拟合结果"
   ]
  },
  {
   "cell_type": "code",
   "execution_count": 7,
   "metadata": {
    "ExecuteTime": {
     "end_time": "2020-11-09T07:26:45.181005Z",
     "start_time": "2020-11-09T07:26:38.967692Z"
    }
   },
   "outputs": [
    {
     "name": "stdout",
     "output_type": "stream",
     "text": [
      "Epoch 1/10\n",
      "60/60 [==============================] - 0s 7ms/step - loss: 32.3851 - accuracy: 0.8056 - val_loss: 10.5011 - val_accuracy: 0.9026\n",
      "Epoch 2/10\n",
      "60/60 [==============================] - 0s 5ms/step - loss: 8.6400 - accuracy: 0.8965 - val_loss: 7.2331 - val_accuracy: 0.8940\n",
      "Epoch 3/10\n",
      "60/60 [==============================] - 0s 5ms/step - loss: 6.1547 - accuracy: 0.8939 - val_loss: 6.5577 - val_accuracy: 0.8805\n",
      "Epoch 4/10\n",
      "60/60 [==============================] - 0s 5ms/step - loss: 5.3539 - accuracy: 0.8886 - val_loss: 6.0638 - val_accuracy: 0.8908\n",
      "Epoch 5/10\n",
      "60/60 [==============================] - 0s 4ms/step - loss: 5.8119 - accuracy: 0.8840 - val_loss: 6.6473 - val_accuracy: 0.8901\n",
      "Epoch 6/10\n",
      "60/60 [==============================] - 0s 5ms/step - loss: 5.0968 - accuracy: 0.8942 - val_loss: 5.3812 - val_accuracy: 0.9037\n",
      "Epoch 7/10\n",
      "60/60 [==============================] - 0s 5ms/step - loss: 4.9859 - accuracy: 0.8907 - val_loss: 6.2444 - val_accuracy: 0.8791\n",
      "Epoch 8/10\n",
      "60/60 [==============================] - 0s 5ms/step - loss: 4.8727 - accuracy: 0.8908 - val_loss: 6.5888 - val_accuracy: 0.8862\n",
      "Epoch 9/10\n",
      "60/60 [==============================] - 0s 6ms/step - loss: 5.4985 - accuracy: 0.8878 - val_loss: 6.2190 - val_accuracy: 0.8979\n",
      "Epoch 10/10\n",
      "60/60 [==============================] - 0s 6ms/step - loss: 5.3187 - accuracy: 0.8934 - val_loss: 6.1290 - val_accuracy: 0.8854\n"
     ]
    },
    {
     "data": {
      "text/plain": [
       "<tensorflow.python.keras.callbacks.History at 0x271b3b6d2c8>"
      ]
     },
     "execution_count": 7,
     "metadata": {},
     "output_type": "execute_result"
    }
   ],
   "source": [
    "model.fit(X0,YY0,                             ##模型实现          \n",
    "          validation_data=(X1,YY1),\n",
    "          batch_size=1000,                             \n",
    "          epochs=10)  #求得训练集X的均值，方差，最大值，最小值，这些训练集X固有的属性"
   ]
  },
  {
   "cell_type": "markdown",
   "metadata": {},
   "source": [
    "# 参数估计结果"
   ]
  },
  {
   "cell_type": "code",
   "execution_count": 8,
   "metadata": {
    "ExecuteTime": {
     "end_time": "2020-11-09T07:26:47.977593Z",
     "start_time": "2020-11-09T07:26:47.958644Z"
    }
   },
   "outputs": [
    {
     "data": {
      "text/plain": [
       "(784, 10)"
      ]
     },
     "execution_count": 8,
     "metadata": {},
     "output_type": "execute_result"
    }
   ],
   "source": [
    "model.layers[2].get_weights()[0].shape    #模型估计大小"
   ]
  },
  {
   "cell_type": "markdown",
   "metadata": {},
   "source": [
    "# 参数估计结果可视化"
   ]
  },
  {
   "cell_type": "code",
   "execution_count": 9,
   "metadata": {
    "ExecuteTime": {
     "end_time": "2020-11-09T07:26:52.201806Z",
     "start_time": "2020-11-09T07:26:51.832791Z"
    }
   },
   "outputs": [
    {
     "data": {
      "image/png": "[encoded data removed]",
      "text/plain": [
       "<Figure size 432x288 with 10 Axes>"
      ]
     },
     "metadata": {},
     "output_type": "display_data"
    }
   ],
   "source": [
    "fig,ax = plt.subplots(2,5)       #以俩行五列呈现\n",
    "ax=ax.flatten()                  #返回一个展平的数组\n",
    "weights = model.layers[2].get_weights()[0]\n",
    "for i in range(10):\n",
    "    Im=weights[:,i].reshape((28,28))  #灰度矩阵\n",
    "    ax[i].imshow(Im,cmap='seismic')   \n",
    "    ax[i].set_title(\"{}\".format(i))\n",
    "    ax[i].set_xticks([])\n",
    "    ax[i].set_yticks([])\n",
    "plt.show()"
   ]
  },
  {
   "cell_type": "markdown",
   "metadata": {},
   "source": [
    "改进意见\n",
    "\n",
    "1、可以增加训练集，并提前将照片处理好，避免歪歪斜斜的情况。\n",
    "\n",
    "2、可以采用集成学习来优化，以提高精度。\n",
    "\n",
    "3、采用多种形式采取特征，以不同的描述值来规范化数据。"
   ]
  },
  {
   "cell_type": "markdown",
   "metadata": {},
   "source": [
    "# 课后思考：其他类似的多分类问题"
   ]
  },
  {
   "cell_type": "markdown",
   "metadata": {},
   "source": [
    "- 识别豪车\n",
    "\n",
    "X为：车高，车长，车牌号，车标志，尾部或侧身的数字，外型等\n",
    "\n",
    "Y为：豪车等级\n",
    "\n",
    "- 电子商务零售机器人识别服装\n",
    "\n",
    "X为：服装类型，颜色，型号，款式，价格等\n",
    "\n",
    "Y为：是否为顾客所需的服装\n",
    "\n",
    "- 齿轮故障识别\n",
    "\n",
    "X为：齿轮的状态，颜色，含油量，齿面损伤程度，振幅等\n",
    "\n",
    "Y为：齿轮发生故障的等级"
   ]
  },
  {
   "cell_type": "code",
   "execution_count": null,
   "metadata": {},
   "outputs": [],
   "source": []
  }
 ],
 "metadata": {
  "hide_input": false,
  "kernelspec": {
   "display_name": "Python 3",
   "language": "python",
   "name": "python3"
  },
  "language_info": {
   "codemirror_mode": {
    "name": "ipython",
    "version": 3
   },
   "file_extension": ".py",
   "mimetype": "text/x-python",
   "name": "python",
   "nbconvert_exporter": "python",
   "pygments_lexer": "ipython3",
   "version": "3.7.6"
  },
  "latex_envs": {
   "LaTeX_envs_menu_present": true,
   "autoclose": false,
   "autocomplete": true,
   "bibliofile": "biblio.bib",
   "cite_by": "apalike",
   "current_citInitial": 1,
   "eqLabelWithNumbers": true,
   "eqNumInitial": 1,
   "hotkeys": {
    "equation": "Ctrl-E",
    "itemize": "Ctrl-I"
   },
   "labels_anchors": false,
   "latex_user_defs": false,
   "report_style_numbering": false,
   "user_envs_cfg": false
  },
  "nbTranslate": {
   "displayLangs": [
    "*"
   ],
   "hotkey": "alt-t",
   "langInMainMenu": true,
   "sourceLang": "en",
   "targetLang": "fr",
   "useGoogleTranslate": true
  },
  "toc": {
   "base_numbering": 1,
   "nav_menu": {},
   "number_sections": true,
   "sideBar": true,
   "skip_h1_title": false,
   "title_cell": "Table of Contents",
   "title_sidebar": "Contents",
   "toc_cell": false,
   "toc_position": {},
   "toc_section_display": true,
   "toc_window_display": false
  },
  "varInspector": {
   "cols": {
    "lenName": 16,
    "lenType": 16,
    "lenVar": 40
   },
   "kernels_config": {
    "python": {
     "delete_cmd_postfix": "",
     "delete_cmd_prefix": "del ",
     "library": "var_list.py",
     "varRefreshCmd": "print(var_dic_list())"
    },
    "r": {
     "delete_cmd_postfix": ") ",
     "delete_cmd_prefix": "rm(",
     "library": "var_list.r",
     "varRefreshCmd": "cat(var_dic_list()) "
    }
   },
   "types_to_exclude": [
    "module",
    "function",
    "builtin_function_or_method",
    "instance",
    "_Feature"
   ],
   "window_display": false
  }
 },
 "nbformat": 4,
 "nbformat_minor": 2
}
