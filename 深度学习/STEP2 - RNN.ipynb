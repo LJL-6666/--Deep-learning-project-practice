{
 "cells": [
  {
   "cell_type": "markdown",
   "metadata": {},
   "source": [
    "<center> <h1> 机器作诗进阶：RNN </h1> </center>  "
   ]
  },
  {
   "cell_type": "markdown",
   "metadata": {},
   "source": [
    "# 逻辑回归（CNN）模型写诗，缺点？\n",
    "\n",
    "> 静夜思：床前明月光，疑似地上霜，举头望明月，低头思故乡\n",
    "\n",
    "> 输入长度必须固定（例如：X=明，月，光）！问：能否长度任意？\n",
    "\n",
    "> 输入没有记忆（例如：X=前，明，月；床？去哪里了？）！问：能否对历史有记忆！\n",
    "\n",
    "$$P\\Big (X_{t}=光\\Big)=f\\Big(X_{t-1}=月,X_{t-2}=明,X_{t-3}=床\\Big)$$\n",
    "\n"
   ]
  },
  {
   "cell_type": "markdown",
   "metadata": {},
   "source": [
    "# 一个更为合理的建模方式\n",
    "\n",
    "> 对于“序列数据”中信息的充分提取，需要我们将“历史”的作用不断“传递”\n",
    "\n",
    "<img src=\"./graph/f2-2.PNG\" alt=\"drawing\" width=\"400\"/>\n"
   ]
  },
  {
   "cell_type": "markdown",
   "metadata": {},
   "source": [
    "# 状态空间模型\n",
    "\n",
    "> 静夜思：床前明月光，疑似地上霜，举头望明月，低头思故乡\n",
    "\n",
    "\n",
    "$$Z_{t+1}=h\\Big(X_{t}=故,Z_{t}\\Big).$$\n",
    "$$P\\Big (X_{t+1}=乡\\Big)=f\\Big(Z_{t+1}\\Big)$$\n",
    "\n",
    "\n"
   ]
  },
  {
   "cell_type": "markdown",
   "metadata": {},
   "source": [
    "# RNN：更好的处理“序列数据”\n",
    "\n",
    "> RNN（Recurrent Neural Network），也叫循环神经网络，是一种专门处理“文本序列数据”的方法。\n",
    "\n",
    "> 核心思想：通过将历史信息不断保留与传递，而保留与传递的载体就是状态$Z_t$。\n",
    "\n",
    "> RNN最早被认知科学与计算神经科学的研究人员提出并应用，后来被广泛应用于研究序列数据，下图展示了一些早期的RNN相关文献。\n",
    "\n",
    "\n",
    "<img src=\"./graph/f2-3.png\" alt=\"drawing\" width=\"750\"/>"
   ]
  },
  {
   "cell_type": "markdown",
   "metadata": {},
   "source": [
    "# RNN结构\n",
    "\n",
    "> 当前时刻的数据 + 上一时刻的状态 = 当前时刻的状态\n",
    "\n",
    "> 每一次神经网络的判断过程之后，都会把信息传给下一次判断过程，就类似于我们人脑的思考理解过程\n",
    "\n",
    "\n",
    "<img src=\"./graph/RNN.png\" alt=\"drawing\" width=\"650\"/>\n",
    "\n",
    "> 非线性变换：$Z_{t+1}=f(W_1X_t,W_2Z_t)$。问题：（1）可以考虑什么样的非线性变幻？（2）消耗多少个参数？"
   ]
  },
  {
   "cell_type": "markdown",
   "metadata": {},
   "source": [
    "# 数据介绍\n",
    "\n",
    "data/poems_clean.txt\n",
    "\n",
    "格式：标题:诗（每句之间以空格隔开）\n",
    "\n",
    "例子：\n",
    "\n",
    "    静夜思:床前明月光 疑是地上霜 举头望明月 低头思故乡  \n",
    "    春望:国破山河在 城春草木深 感时花溅泪 恨别鸟惊心 烽火连三月 家书抵万金 白头搔更短 浑欲不胜簪 "
   ]
  },
  {
   "cell_type": "markdown",
   "metadata": {},
   "source": [
    "# 数据读入与展示"
   ]
  },
  {
   "cell_type": "code",
   "execution_count": 1,
   "metadata": {},
   "outputs": [
    {
     "name": "stdout",
     "output_type": "stream",
     "text": [
      "['寒', '随', '穷', '律', '变', '春', '逐', '鸟', '声', '开', '初', '风', '飘', '带', '柳', '晚', '雪', '间', '花', '梅', '碧', '林', '青', '旧', '竹', '绿', '沼', '翠', '新', '苔', '芝', '田', '初', '雁', '去', '绮', '树', '巧', '莺', '来']\n"
     ]
    }
   ],
   "source": [
    "import string\n",
    "import numpy as np\n",
    "\n",
    "f = open('data/poems_clean.txt', \"r\", encoding='utf-8')\n",
    "poems = []\n",
    "for line in f.readlines():\n",
    "    title, poem = line.split(':')\n",
    "    poem = poem.replace(' ', '') #将空格去掉\n",
    "    poem = poem.replace('\\n', '') #将换行符去掉\n",
    "    poems.append(list(poem))\n",
    "    \n",
    "print(poems[0][:])"
   ]
  },
  {
   "cell_type": "markdown",
   "metadata": {},
   "source": [
    "# 数据整理：文字编码"
   ]
  },
  {
   "cell_type": "code",
   "execution_count": 2,
   "metadata": {},
   "outputs": [
    {
     "name": "stderr",
     "output_type": "stream",
     "text": [
      "Using TensorFlow backend.\n"
     ]
    },
    {
     "data": {
      "text/plain": [
       "5546"
      ]
     },
     "execution_count": 2,
     "metadata": {},
     "output_type": "execute_result"
    }
   ],
   "source": [
    "from keras.preprocessing.text import Tokenizer\n",
    "from keras.preprocessing.sequence import pad_sequences\n",
    "\n",
    "tokenizer = Tokenizer()\n",
    "tokenizer.fit_on_texts(poems)\n",
    "poems_digit = tokenizer.texts_to_sequences(poems)\n",
    "vocab_size = len(tokenizer.word_index) + 1 #加上停止词0\n",
    "vocab_size #有多少个不同的字\n"
   ]
  },
  {
   "cell_type": "markdown",
   "metadata": {},
   "source": [
    "# 数据整理\n",
    "\n",
    "> 由于每首诗的长度不一致，为了将所有的诗放在一个统一的$m\\times n$维数组中，我们需要在较短诗的末尾用0进行补齐\n",
    "\n",
    "<img src=\"./graph/f2-4.PNG\" alt=\"drawing\" width=\"750\"/>"
   ]
  },
  {
   "cell_type": "markdown",
   "metadata": {},
   "source": [
    "## （1）补全数据"
   ]
  },
  {
   "cell_type": "code",
   "execution_count": 3,
   "metadata": {},
   "outputs": [
    {
     "name": "stdout",
     "output_type": "stream",
     "text": [
      "原始诗歌\n",
      "['床', '前', '明', '月', '光', '疑', '是', '地', '上', '霜', '举', '头', '望', '明', '月', '低', '头', '思', '故', '乡']\n",
      "\n",
      "\n",
      "编码+补全后的结果\n",
      "[532  72  53  13 140 429  44 113  15 202 688 128 106  53  13 502 128  75\n",
      " 134 169   0   0   0   0   0   0   0   0   0   0   0   0   0   0   0   0\n",
      "   0   0   0   0   0   0   0   0   0   0   0   0   0   0]\n"
     ]
    }
   ],
   "source": [
    "#为了将所有的诗放在一个M*N的np.array中，将每一首诗补0到同样的长度\n",
    "poems_digit = pad_sequences(poems_digit, maxlen=50, padding='post')\n",
    "print(\"原始诗歌\")\n",
    "print(poems[3864])\n",
    "print(\"\\n\")\n",
    "print(\"编码+补全后的结果\")\n",
    "print(poems_digit[3864])"
   ]
  },
  {
   "cell_type": "markdown",
   "metadata": {},
   "source": [
    "## （2）对齐$X$和$Y$\n",
    "\n",
    "\n",
    "> 将每首诗的前一个字作为$X$，后一个字作为$Y$，进行数据对齐"
   ]
  },
  {
   "cell_type": "code",
   "execution_count": 4,
   "metadata": {},
   "outputs": [
    {
     "name": "stdout",
     "output_type": "stream",
     "text": [
      "(24117, 50)\n",
      "(24117, 49)\n",
      "(24117, 49)\n",
      "X示例 \t Y示例\n",
      "42 \t 180\n",
      "180 \t 401\n",
      "401 \t 1143\n",
      "1143 \t 671\n",
      "671 \t 9\n",
      "9 \t 331\n",
      "331 \t 130\n",
      "130 \t 58\n",
      "58 \t 84\n",
      "84 \t 177\n",
      "... \t ...\n"
     ]
    }
   ],
   "source": [
    "X = poems_digit[:, :-1]\n",
    "Y = poems_digit[:, 1:]\n",
    "\n",
    "print(poems_digit.shape)\n",
    "print(X.shape)\n",
    "print(Y.shape)\n",
    "\n",
    "print(\"X示例\", \"\\t\", \"Y示例\")\n",
    "\n",
    "for i in range(10):\n",
    "    print(X[0][i], \"\\t\", Y[0][i])\n",
    "    \n",
    "print(\"...\", \"\\t\", \"...\")"
   ]
  },
  {
   "cell_type": "markdown",
   "metadata": {},
   "source": [
    "## （3）把$Y$变成One-Hot向量\n"
   ]
  },
  {
   "cell_type": "code",
   "execution_count": 5,
   "metadata": {},
   "outputs": [
    {
     "name": "stdout",
     "output_type": "stream",
     "text": [
      "5546\n",
      "(24117, 49, 5546)\n"
     ]
    }
   ],
   "source": [
    "print(vocab_size)\n",
    "from keras.utils import to_categorical\n",
    "Y = to_categorical(Y, num_classes=vocab_size)\n",
    "print(Y.shape)"
   ]
  },
  {
   "cell_type": "markdown",
   "metadata": {},
   "source": [
    "# 确定空间维度"
   ]
  },
  {
   "cell_type": "code",
   "execution_count": 6,
   "metadata": {},
   "outputs": [],
   "source": [
    "from keras.models import Model\n",
    "from keras.layers import Input, SimpleRNN, Dense, Embedding, Activation, BatchNormalization\n",
    "embedding_size = 64\n",
    "hidden_size = 128"
   ]
  },
  {
   "cell_type": "markdown",
   "metadata": {},
   "source": [
    "# 构建RNN的模型"
   ]
  },
  {
   "cell_type": "code",
   "execution_count": 7,
   "metadata": {},
   "outputs": [
    {
     "name": "stdout",
     "output_type": "stream",
     "text": [
      "Model: \"model_1\"\n",
      "_________________________________________________________________\n",
      "Layer (type)                 Output Shape              Param #   \n",
      "=================================================================\n",
      "input_1 (InputLayer)         (None, 49)                0         \n",
      "_________________________________________________________________\n",
      "embedding_1 (Embedding)      (None, 49, 64)            354944    \n",
      "_________________________________________________________________\n",
      "simple_rnn_1 (SimpleRNN)     (None, 49, 128)           24704     \n",
      "_________________________________________________________________\n",
      "dense_1 (Dense)              (None, 49, 5546)          715434    \n",
      "_________________________________________________________________\n",
      "activation_1 (Activation)    (None, 49, 5546)          0         \n",
      "=================================================================\n",
      "Total params: 1,095,082\n",
      "Trainable params: 1,095,082\n",
      "Non-trainable params: 0\n",
      "_________________________________________________________________\n"
     ]
    }
   ],
   "source": [
    "inp = Input(shape=(49,))\n",
    "\n",
    "# Encoder\n",
    "x = Embedding(vocab_size, embedding_size, mask_zero=True)(inp)\n",
    "x = SimpleRNN(hidden_size,return_sequences=True)(x)\n",
    "\n",
    "# prediction\n",
    "x = Dense(vocab_size)(x)\n",
    "pred = Activation('softmax')(x)\n",
    "\n",
    "model = Model(inp, pred)\n",
    "model.summary()"
   ]
  },
  {
   "cell_type": "markdown",
   "metadata": {},
   "source": [
    "# 参数个数\n",
    "\n",
    "> vocab_size=5546; embedding_size=64; hidden_size=128\n",
    "\n",
    "> Embedding: 5546*64 = 354944\n",
    "\n",
    "> RNN：128*64 +128*128+128 = 24704 \n",
    "\n",
    "> Dense： 5546*128+5546=715434"
   ]
  },
  {
   "cell_type": "markdown",
   "metadata": {},
   "source": [
    "# 模型训练"
   ]
  },
  {
   "cell_type": "code",
   "execution_count": 9,
   "metadata": {},
   "outputs": [],
   "source": [
    "from keras.optimizers import Adam\n",
    "model.compile(loss='categorical_crossentropy', optimizer=Adam(lr=0.001), metrics=['accuracy'])\n",
    "model.fit(X, Y, epochs=2, batch_size=128, validation_split=0.2)"
   ]
  },
  {
   "cell_type": "markdown",
   "metadata": {},
   "source": [
    "# 应用模型作诗"
   ]
  },
  {
   "cell_type": "code",
   "execution_count": null,
   "metadata": {},
   "outputs": [],
   "source": [
    "poem_incomplete = '熊****大****很****帅****'\n",
    "poem_index = []\n",
    "poem_text = ''\n",
    "for i in range(len(poem_incomplete)):\n",
    "    current_word = poem_incomplete[i]\n",
    "    \n",
    "    if  current_word != '*':\n",
    "        index = tokenizer.word_index[current_word]\n",
    "        \n",
    "    else:\n",
    "        x = np.expand_dims(poem_index, axis=0)\n",
    "        x = pad_sequences(x, maxlen=49, padding='post')\n",
    "        y = model.predict(x)[0, i]\n",
    "        \n",
    "        y[0] = 0            #去掉停止词\n",
    "        index = y.argmax()\n",
    "        current_word = tokenizer.index_word[index]\n",
    "        \n",
    "        \n",
    "\n",
    "\n",
    "    poem_index.append(index)\n",
    "    poem_text = poem_text + current_word\n",
    "        \n",
    "poem_text = poem_text[0:]\n",
    "print(poem_text[0:5])\n",
    "print(poem_text[5:10])\n",
    "print(poem_text[10:15])\n",
    "print(poem_text[15:20])"
   ]
  },
  {
   "cell_type": "markdown",
   "metadata": {},
   "source": [
    "# 思考问题：RNN vs. 时间序列模型"
   ]
  }
 ],
 "metadata": {
  "hide_input": false,
  "kernelspec": {
   "display_name": "Python 3",
   "language": "python",
   "name": "python3"
  },
  "language_info": {
   "codemirror_mode": {
    "name": "ipython",
    "version": 3
   },
   "file_extension": ".py",
   "mimetype": "text/x-python",
   "name": "python",
   "nbconvert_exporter": "python",
   "pygments_lexer": "ipython3",
   "version": "3.7.6"
  },
  "latex_envs": {
   "LaTeX_envs_menu_present": true,
   "autoclose": false,
   "autocomplete": true,
   "bibliofile": "biblio.bib",
   "cite_by": "apalike",
   "current_citInitial": 1,
   "eqLabelWithNumbers": true,
   "eqNumInitial": 1,
   "hotkeys": {
    "equation": "Ctrl-E",
    "itemize": "Ctrl-I"
   },
   "labels_anchors": false,
   "latex_user_defs": false,
   "report_style_numbering": false,
   "user_envs_cfg": false
  },
  "nbTranslate": {
   "displayLangs": [
    "*"
   ],
   "hotkey": "alt-t",
   "langInMainMenu": true,
   "sourceLang": "en",
   "targetLang": "fr",
   "useGoogleTranslate": true
  },
  "toc": {
   "base_numbering": 1,
   "nav_menu": {},
   "number_sections": true,
   "sideBar": true,
   "skip_h1_title": false,
   "title_cell": "Table of Contents",
   "title_sidebar": "Contents",
   "toc_cell": false,
   "toc_position": {},
   "toc_section_display": true,
   "toc_window_display": false
  },
  "varInspector": {
   "cols": {
    "lenName": 16,
    "lenType": 16,
    "lenVar": 40
   },
   "kernels_config": {
    "python": {
     "delete_cmd_postfix": "",
     "delete_cmd_prefix": "del ",
     "library": "var_list.py",
     "varRefreshCmd": "print(var_dic_list())"
    },
    "r": {
     "delete_cmd_postfix": ") ",
     "delete_cmd_prefix": "rm(",
     "library": "var_list.r",
     "varRefreshCmd": "cat(var_dic_list()) "
    }
   },
   "types_to_exclude": [
    "module",
    "function",
    "builtin_function_or_method",
    "instance",
    "_Feature"
   ],
   "window_display": false
  }
 },
 "nbformat": 4,
 "nbformat_minor": 2
}
